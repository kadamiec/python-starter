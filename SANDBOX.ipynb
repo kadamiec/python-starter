{
 "cells": [
  {
   "cell_type": "code",
   "execution_count": 4,
   "metadata": {},
   "outputs": [],
   "source": [
    "# Dependencies / import\n",
    "import pandas as pd\n",
    "import numpy as np\n",
    "import numpy_financial as npf\n",
    "import json as json\n",
    "from datetime import date\n",
    "from typing import List, Dict"
   ]
  },
  {
   "cell_type": "code",
   "execution_count": 2,
   "metadata": {},
   "outputs": [],
   "source": [
    "# IPython / Jupyter specific. Call it twice just in case\n",
    "import sys\n",
    "import importlib\n",
    "def recursive_reload(module):\n",
    "    \"\"\"Recursively reload all submodules of a given module.\"\"\"\n",
    "    # importlib.reload(module)\n",
    "    for attribute_name in dir(module):\n",
    "        attribute = getattr(module, attribute_name)\n",
    "        if isinstance(attribute, type(sys)) and attribute.__name__.startswith(module.__name__):\n",
    "            # print(f\"Reloading {attribute.__name__}\")\n",
    "            recursive_reload(attribute)\n",
    "    # print(f\"Reloading {module.__name__}\")\n",
    "    importlib.reload(module)\n"
   ]
  },
  {
   "cell_type": "code",
   "execution_count": 6,
   "metadata": {},
   "outputs": [
    {
     "data": {
      "text/plain": [
       "'Hello from Demo'"
      ]
     },
     "execution_count": 6,
     "metadata": {},
     "output_type": "execute_result"
    }
   ],
   "source": [
    "## When working with internal library uncomment this section. For some reason it has to be twice\n",
    "import my_lib\n",
    "recursive_reload(my_lib)\n",
    "recursive_reload(my_lib)\n",
    "\n",
    "# Your interactive session starts here\n",
    "demo = my_lib.Demo()    # Instantiate class\n",
    "demo.hello_lib()        # Call class method"
   ]
  }
 ],
 "metadata": {
  "kernelspec": {
   "display_name": "Python 3",
   "language": "python",
   "name": "python3"
  },
  "language_info": {
   "codemirror_mode": {
    "name": "ipython",
    "version": 3
   },
   "file_extension": ".py",
   "mimetype": "text/x-python",
   "name": "python",
   "nbconvert_exporter": "python",
   "pygments_lexer": "ipython3",
   "version": "3.12.3"
  }
 },
 "nbformat": 4,
 "nbformat_minor": 2
}
